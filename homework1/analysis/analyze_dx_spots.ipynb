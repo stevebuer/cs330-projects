{
 "cells": [
  {
   "cell_type": "markdown",
   "id": "583078e5",
   "metadata": {},
   "source": [
    "# DX Cluster Spot Analysis\n",
    "\n",
    "This notebook analyzes DX cluster spots stored in the SQLite database and generates insights through visualizations and statistics.\n",
    "\n",
    "The analysis includes:\n",
    "- Basic dataset statistics\n",
    "- Top spotted DX calls\n",
    "- Band distribution\n",
    "- Mode distribution\n",
    "- Time-based analysis\n",
    "- Geographic visualization of spots"
   ]
  },
  {
   "cell_type": "markdown",
   "id": "3aab7aee",
   "metadata": {},
   "source": [
    "## Import Required Libraries\n",
    "\n",
    "First, let's import all the necessary libraries. We'll handle imports gracefully in case some optional dependencies are not installed."
   ]
  },
  {
   "cell_type": "code",
   "execution_count": 1,
   "id": "065a6030",
   "metadata": {},
   "outputs": [],
   "source": [
    "import sqlite3\n",
    "import os\n",
    "from datetime import datetime\n",
    "\n",
    "# Try importing optional dependencies\n",
    "try:\n",
    "    import pandas as pd\n",
    "except Exception:\n",
    "    pd = None\n",
    "    print(\"pandas not available - some functionality will be limited\")\n",
    "\n",
    "try:\n",
    "    import matplotlib.pyplot as plt\n",
    "    import seaborn as sns\n",
    "    try:\n",
    "        import geopandas as gpd\n",
    "    except Exception:\n",
    "        gpd = None\n",
    "        print(\"geopandas not available - map plotting will be limited\")\n",
    "except Exception:\n",
    "    plt = None\n",
    "    sns = None\n",
    "    gpd = None\n",
    "    print(\"matplotlib/seaborn not available - plotting will be disabled\")"
   ]
  },
  {
   "cell_type": "markdown",
   "id": "47391ca9",
   "metadata": {},
   "source": [
    "## Data Loading Functions\n",
    "\n",
    "Define functions to load data from the SQLite database."
   ]
  },
  {
   "cell_type": "code",
   "execution_count": 2,
   "id": "b4267206",
   "metadata": {},
   "outputs": [
    {
     "name": "stdout",
     "output_type": "stream",
     "text": [
      "Loaded 13119 spots\n",
      "Loaded 6914 callsign records\n"
     ]
    }
   ],
   "source": [
    "DB_DEFAULT = '../dxcluster.db'\n",
    "\n",
    "def load_tables(db_path=DB_DEFAULT):\n",
    "    \"\"\"Load dx_spots and callsigns tables into pandas DataFrames if pandas\n",
    "    is available, otherwise return lists of dicts via sqlite3 cursor.\"\"\"\n",
    "    conn = sqlite3.connect(db_path)\n",
    "    if pd is not None:\n",
    "        df_spots = pd.read_sql_query('SELECT * FROM dx_spots', conn, parse_dates=['timestamp'])\n",
    "        df_calls = pd.read_sql_query('SELECT * FROM callsigns', conn, parse_dates=['first_seen','last_seen'])\n",
    "        conn.close()\n",
    "        return df_spots, df_calls\n",
    "\n",
    "    cur = conn.cursor()\n",
    "    cur.execute('SELECT * FROM dx_spots')\n",
    "    cols = [d[0] for d in cur.description]\n",
    "    spots = [dict(zip(cols, row)) for row in cur.fetchall()]\n",
    "    cur.execute('SELECT * FROM callsigns')\n",
    "    cols = [d[0] for d in cur.description]\n",
    "    calls = [dict(zip(cols, row)) for row in cur.fetchall()]\n",
    "    conn.close()\n",
    "    return spots, calls\n",
    "\n",
    "# Load the data\n",
    "df_spots, df_calls = load_tables()\n",
    "print(f\"Loaded {len(df_spots) if isinstance(df_spots, pd.DataFrame) else len(df_spots)} spots\")\n",
    "print(f\"Loaded {len(df_calls) if isinstance(df_calls, pd.DataFrame) else len(df_calls)} callsign records\")"
   ]
  },
  {
   "cell_type": "markdown",
   "id": "322ed796",
   "metadata": {},
   "source": [
    "## Basic Statistics\n",
    "\n",
    "Let's analyze the basic statistics of our dataset."
   ]
  },
  {
   "cell_type": "code",
   "execution_count": 3,
   "id": "1afa23df",
   "metadata": {},
   "outputs": [
    {
     "name": "stdout",
     "output_type": "stream",
     "text": [
      "=== Basic dataset summary ===\n",
      "Total spots: 13119\n",
      "Unique DX calls seen: 4301\n",
      "Unique spotter calls: 3058\n",
      "Time range: 2025-09-30 14:56:58 -> 2025-10-03 14:34:58 (2 days)\n",
      "Average spots per day: 6559.50\n"
     ]
    }
   ],
   "source": [
    "def print_basic_stats(df_spots, df_calls):\n",
    "    print('=== Basic dataset summary ===')\n",
    "    if pd is not None and isinstance(df_spots, pd.DataFrame):\n",
    "        total_spots = len(df_spots)\n",
    "        unique_dx = df_spots['dx_call'].nunique()\n",
    "        unique_spotters = df_spots['spotter_call'].nunique()\n",
    "        times = pd.to_datetime(df_spots['timestamp'])\n",
    "        first = times.min()\n",
    "        last = times.max()\n",
    "        days = (last - first).days or 1\n",
    "        spots_per_day = total_spots / (days if days else 1)\n",
    "\n",
    "        print(f'Total spots: {total_spots}')\n",
    "        print(f'Unique DX calls seen: {unique_dx}')\n",
    "        print(f'Unique spotter calls: {unique_spotters}')\n",
    "        print(f'Time range: {first} -> {last} ({days} days)')\n",
    "        print(f'Average spots per day: {spots_per_day:.2f}')\n",
    "    else:\n",
    "        print('Pandas not available. Basic statistics not computed.')\n",
    "\n",
    "print_basic_stats(df_spots, df_calls)"
   ]
  },
  {
   "cell_type": "markdown",
   "id": "db66813f",
   "metadata": {},
   "source": [
    "## Analysis Functions\n",
    "\n",
    "Define helper functions for various analyses."
   ]
  },
  {
   "cell_type": "code",
   "execution_count": 4,
   "id": "3b75e566",
   "metadata": {},
   "outputs": [],
   "source": [
    "def top_n_by_count(df_spots, column, n=10):\n",
    "    if pd is None:\n",
    "        return []\n",
    "    s = df_spots[column].value_counts().head(n)\n",
    "    return list(s.items())\n",
    "\n",
    "def band_distribution(df_spots):\n",
    "    if pd is None:\n",
    "        return {}\n",
    "    return df_spots['band'].value_counts(dropna=True)\n",
    "\n",
    "def mode_distribution(df_spots):\n",
    "    if pd is None:\n",
    "        return {}\n",
    "    return df_spots['mode'].value_counts(dropna=True)\n",
    "\n",
    "def busiest_hour(df_spots):\n",
    "    if pd is None:\n",
    "        return None\n",
    "    hours = pd.to_datetime(df_spots['timestamp']).dt.hour\n",
    "    return hours.value_counts().idxmax(), hours.value_counts().max()"
   ]
  },
  {
   "cell_type": "markdown",
   "id": "f000710d",
   "metadata": {},
   "source": [
    "## Top Spotted DX Calls"
   ]
  },
  {
   "cell_type": "code",
   "execution_count": 5,
   "id": "39552c42",
   "metadata": {},
   "outputs": [
    {
     "name": "stdout",
     "output_type": "stream",
     "text": [
      "=== Top spotted DX calls ===\n"
     ]
    },
    {
     "ename": "TypeError",
     "evalue": "cannot do positional indexing on Index with these indexers [10] of type Integer",
     "output_type": "error",
     "traceback": [
      "\u001b[0;31m---------------------------------------------------------------------------\u001b[0m",
      "\u001b[0;31mTypeError\u001b[0m                                 Traceback (most recent call last)",
      "Cell \u001b[0;32mIn [5], line 2\u001b[0m\n\u001b[1;32m      1\u001b[0m \u001b[38;5;28mprint\u001b[39m(\u001b[38;5;124m'\u001b[39m\u001b[38;5;124m=== Top spotted DX calls ===\u001b[39m\u001b[38;5;124m'\u001b[39m)\n\u001b[0;32m----> 2\u001b[0m \u001b[38;5;28;01mfor\u001b[39;00m call, cnt \u001b[38;5;129;01min\u001b[39;00m \u001b[43mtop_n_by_count\u001b[49m\u001b[43m(\u001b[49m\u001b[43mdf_spots\u001b[49m\u001b[43m,\u001b[49m\u001b[43m \u001b[49m\u001b[38;5;124;43m'\u001b[39;49m\u001b[38;5;124;43mdx_call\u001b[39;49m\u001b[38;5;124;43m'\u001b[39;49m\u001b[43m,\u001b[49m\u001b[43m \u001b[49m\u001b[43mInteger\u001b[49m\u001b[43m(\u001b[49m\u001b[38;5;241;43m10\u001b[39;49m\u001b[43m)\u001b[49m\u001b[43m)\u001b[49m:\n\u001b[1;32m      3\u001b[0m     \u001b[38;5;28mprint\u001b[39m(\u001b[38;5;124mf\u001b[39m\u001b[38;5;124m'\u001b[39m\u001b[38;5;132;01m{\u001b[39;00mcall\u001b[38;5;132;01m:\u001b[39;00m\u001b[38;5;124m12\u001b[39m\u001b[38;5;132;01m}\u001b[39;00m\u001b[38;5;124m  \u001b[39m\u001b[38;5;132;01m{\u001b[39;00mcnt\u001b[38;5;132;01m}\u001b[39;00m\u001b[38;5;124m'\u001b[39m)\n",
      "Cell \u001b[0;32mIn [4], line 4\u001b[0m, in \u001b[0;36mtop_n_by_count\u001b[0;34m(df_spots, column, n)\u001b[0m\n\u001b[1;32m      2\u001b[0m \u001b[38;5;28;01mif\u001b[39;00m pd \u001b[38;5;129;01mis\u001b[39;00m \u001b[38;5;28;01mNone\u001b[39;00m:\n\u001b[1;32m      3\u001b[0m     \u001b[38;5;28;01mreturn\u001b[39;00m []\n\u001b[0;32m----> 4\u001b[0m s \u001b[38;5;241m=\u001b[39m \u001b[43mdf_spots\u001b[49m\u001b[43m[\u001b[49m\u001b[43mcolumn\u001b[49m\u001b[43m]\u001b[49m\u001b[38;5;241;43m.\u001b[39;49m\u001b[43mvalue_counts\u001b[49m\u001b[43m(\u001b[49m\u001b[43m)\u001b[49m\u001b[38;5;241;43m.\u001b[39;49m\u001b[43mhead\u001b[49m\u001b[43m(\u001b[49m\u001b[43mn\u001b[49m\u001b[43m)\u001b[49m\n\u001b[1;32m      5\u001b[0m \u001b[38;5;28;01mreturn\u001b[39;00m \u001b[38;5;28mlist\u001b[39m(s\u001b[38;5;241m.\u001b[39mitems())\n",
      "File \u001b[0;32m/usr/lib/python3/dist-packages/pandas/core/generic.py:5547\u001b[0m, in \u001b[0;36mNDFrame.head\u001b[0;34m(self, n)\u001b[0m\n\u001b[1;32m   5474\u001b[0m \u001b[38;5;129m@final\u001b[39m\n\u001b[1;32m   5475\u001b[0m \u001b[38;5;28;01mdef\u001b[39;00m \u001b[38;5;21mhead\u001b[39m(\u001b[38;5;28mself\u001b[39m: NDFrameT, n: \u001b[38;5;28mint\u001b[39m \u001b[38;5;241m=\u001b[39m \u001b[38;5;241m5\u001b[39m) \u001b[38;5;241m-\u001b[39m\u001b[38;5;241m>\u001b[39m NDFrameT:\n\u001b[1;32m   5476\u001b[0m \u001b[38;5;250m    \u001b[39m\u001b[38;5;124;03m\"\"\"\u001b[39;00m\n\u001b[1;32m   5477\u001b[0m \u001b[38;5;124;03m    Return the first `n` rows.\u001b[39;00m\n\u001b[1;32m   5478\u001b[0m \n\u001b[0;32m   (...)\u001b[0m\n\u001b[1;32m   5545\u001b[0m \u001b[38;5;124;03m    5     parrot\u001b[39;00m\n\u001b[1;32m   5546\u001b[0m \u001b[38;5;124;03m    \"\"\"\u001b[39;00m\n\u001b[0;32m-> 5547\u001b[0m     \u001b[38;5;28;01mreturn\u001b[39;00m \u001b[38;5;28;43mself\u001b[39;49m\u001b[38;5;241;43m.\u001b[39;49m\u001b[43miloc\u001b[49m\u001b[43m[\u001b[49m\u001b[43m:\u001b[49m\u001b[43mn\u001b[49m\u001b[43m]\u001b[49m\n",
      "File \u001b[0;32m/usr/lib/python3/dist-packages/pandas/core/indexing.py:1073\u001b[0m, in \u001b[0;36m_LocationIndexer.__getitem__\u001b[0;34m(self, key)\u001b[0m\n\u001b[1;32m   1070\u001b[0m axis \u001b[38;5;241m=\u001b[39m \u001b[38;5;28mself\u001b[39m\u001b[38;5;241m.\u001b[39maxis \u001b[38;5;129;01mor\u001b[39;00m \u001b[38;5;241m0\u001b[39m\n\u001b[1;32m   1072\u001b[0m maybe_callable \u001b[38;5;241m=\u001b[39m com\u001b[38;5;241m.\u001b[39mapply_if_callable(key, \u001b[38;5;28mself\u001b[39m\u001b[38;5;241m.\u001b[39mobj)\n\u001b[0;32m-> 1073\u001b[0m \u001b[38;5;28;01mreturn\u001b[39;00m \u001b[38;5;28;43mself\u001b[39;49m\u001b[38;5;241;43m.\u001b[39;49m\u001b[43m_getitem_axis\u001b[49m\u001b[43m(\u001b[49m\u001b[43mmaybe_callable\u001b[49m\u001b[43m,\u001b[49m\u001b[43m \u001b[49m\u001b[43maxis\u001b[49m\u001b[38;5;241;43m=\u001b[39;49m\u001b[43maxis\u001b[49m\u001b[43m)\u001b[49m\n",
      "File \u001b[0;32m/usr/lib/python3/dist-packages/pandas/core/indexing.py:1602\u001b[0m, in \u001b[0;36m_iLocIndexer._getitem_axis\u001b[0;34m(self, key, axis)\u001b[0m\n\u001b[1;32m   1596\u001b[0m     \u001b[38;5;28;01mraise\u001b[39;00m \u001b[38;5;167;01mIndexError\u001b[39;00m(\n\u001b[1;32m   1597\u001b[0m         \u001b[38;5;124m\"\u001b[39m\u001b[38;5;124mDataFrame indexer is not allowed for .iloc\u001b[39m\u001b[38;5;130;01m\\n\u001b[39;00m\u001b[38;5;124m\"\u001b[39m\n\u001b[1;32m   1598\u001b[0m         \u001b[38;5;124m\"\u001b[39m\u001b[38;5;124mConsider using .loc for automatic alignment.\u001b[39m\u001b[38;5;124m\"\u001b[39m\n\u001b[1;32m   1599\u001b[0m     )\n\u001b[1;32m   1601\u001b[0m \u001b[38;5;28;01mif\u001b[39;00m \u001b[38;5;28misinstance\u001b[39m(key, \u001b[38;5;28mslice\u001b[39m):\n\u001b[0;32m-> 1602\u001b[0m     \u001b[38;5;28;01mreturn\u001b[39;00m \u001b[38;5;28;43mself\u001b[39;49m\u001b[38;5;241;43m.\u001b[39;49m\u001b[43m_get_slice_axis\u001b[49m\u001b[43m(\u001b[49m\u001b[43mkey\u001b[49m\u001b[43m,\u001b[49m\u001b[43m \u001b[49m\u001b[43maxis\u001b[49m\u001b[38;5;241;43m=\u001b[39;49m\u001b[43maxis\u001b[49m\u001b[43m)\u001b[49m\n\u001b[1;32m   1604\u001b[0m \u001b[38;5;28;01mif\u001b[39;00m is_iterator(key):\n\u001b[1;32m   1605\u001b[0m     key \u001b[38;5;241m=\u001b[39m \u001b[38;5;28mlist\u001b[39m(key)\n",
      "File \u001b[0;32m/usr/lib/python3/dist-packages/pandas/core/indexing.py:1637\u001b[0m, in \u001b[0;36m_iLocIndexer._get_slice_axis\u001b[0;34m(self, slice_obj, axis)\u001b[0m\n\u001b[1;32m   1634\u001b[0m     \u001b[38;5;28;01mreturn\u001b[39;00m obj\u001b[38;5;241m.\u001b[39mcopy(deep\u001b[38;5;241m=\u001b[39m\u001b[38;5;28;01mFalse\u001b[39;00m)\n\u001b[1;32m   1636\u001b[0m labels \u001b[38;5;241m=\u001b[39m obj\u001b[38;5;241m.\u001b[39m_get_axis(axis)\n\u001b[0;32m-> 1637\u001b[0m \u001b[43mlabels\u001b[49m\u001b[38;5;241;43m.\u001b[39;49m\u001b[43m_validate_positional_slice\u001b[49m\u001b[43m(\u001b[49m\u001b[43mslice_obj\u001b[49m\u001b[43m)\u001b[49m\n\u001b[1;32m   1638\u001b[0m \u001b[38;5;28;01mreturn\u001b[39;00m \u001b[38;5;28mself\u001b[39m\u001b[38;5;241m.\u001b[39mobj\u001b[38;5;241m.\u001b[39m_slice(slice_obj, axis\u001b[38;5;241m=\u001b[39maxis)\n",
      "File \u001b[0;32m/usr/lib/python3/dist-packages/pandas/core/indexes/base.py:4212\u001b[0m, in \u001b[0;36mIndex._validate_positional_slice\u001b[0;34m(self, key)\u001b[0m\n\u001b[1;32m   4207\u001b[0m \u001b[38;5;250m\u001b[39m\u001b[38;5;124;03m\"\"\"\u001b[39;00m\n\u001b[1;32m   4208\u001b[0m \u001b[38;5;124;03mFor positional indexing, a slice must have either int or None\u001b[39;00m\n\u001b[1;32m   4209\u001b[0m \u001b[38;5;124;03mfor each of start, stop, and step.\u001b[39;00m\n\u001b[1;32m   4210\u001b[0m \u001b[38;5;124;03m\"\"\"\u001b[39;00m\n\u001b[1;32m   4211\u001b[0m \u001b[38;5;28mself\u001b[39m\u001b[38;5;241m.\u001b[39m_validate_indexer(\u001b[38;5;124m\"\u001b[39m\u001b[38;5;124mpositional\u001b[39m\u001b[38;5;124m\"\u001b[39m, key\u001b[38;5;241m.\u001b[39mstart, \u001b[38;5;124m\"\u001b[39m\u001b[38;5;124miloc\u001b[39m\u001b[38;5;124m\"\u001b[39m)\n\u001b[0;32m-> 4212\u001b[0m \u001b[38;5;28;43mself\u001b[39;49m\u001b[38;5;241;43m.\u001b[39;49m\u001b[43m_validate_indexer\u001b[49m\u001b[43m(\u001b[49m\u001b[38;5;124;43m\"\u001b[39;49m\u001b[38;5;124;43mpositional\u001b[39;49m\u001b[38;5;124;43m\"\u001b[39;49m\u001b[43m,\u001b[49m\u001b[43m \u001b[49m\u001b[43mkey\u001b[49m\u001b[38;5;241;43m.\u001b[39;49m\u001b[43mstop\u001b[49m\u001b[43m,\u001b[49m\u001b[43m \u001b[49m\u001b[38;5;124;43m\"\u001b[39;49m\u001b[38;5;124;43miloc\u001b[39;49m\u001b[38;5;124;43m\"\u001b[39;49m\u001b[43m)\u001b[49m\n\u001b[1;32m   4213\u001b[0m \u001b[38;5;28mself\u001b[39m\u001b[38;5;241m.\u001b[39m_validate_indexer(\u001b[38;5;124m\"\u001b[39m\u001b[38;5;124mpositional\u001b[39m\u001b[38;5;124m\"\u001b[39m, key\u001b[38;5;241m.\u001b[39mstep, \u001b[38;5;124m\"\u001b[39m\u001b[38;5;124miloc\u001b[39m\u001b[38;5;124m\"\u001b[39m)\n",
      "File \u001b[0;32m/usr/lib/python3/dist-packages/pandas/core/indexes/base.py:6591\u001b[0m, in \u001b[0;36mIndex._validate_indexer\u001b[0;34m(self, form, key, kind)\u001b[0m\n\u001b[1;32m   6588\u001b[0m \u001b[38;5;28;01massert\u001b[39;00m kind \u001b[38;5;129;01min\u001b[39;00m [\u001b[38;5;124m\"\u001b[39m\u001b[38;5;124mgetitem\u001b[39m\u001b[38;5;124m\"\u001b[39m, \u001b[38;5;124m\"\u001b[39m\u001b[38;5;124miloc\u001b[39m\u001b[38;5;124m\"\u001b[39m]\n\u001b[1;32m   6590\u001b[0m \u001b[38;5;28;01mif\u001b[39;00m key \u001b[38;5;129;01mis\u001b[39;00m \u001b[38;5;129;01mnot\u001b[39;00m \u001b[38;5;28;01mNone\u001b[39;00m \u001b[38;5;129;01mand\u001b[39;00m \u001b[38;5;129;01mnot\u001b[39;00m is_integer(key):\n\u001b[0;32m-> 6591\u001b[0m     \u001b[38;5;28;01mraise\u001b[39;00m \u001b[38;5;28mself\u001b[39m\u001b[38;5;241m.\u001b[39m_invalid_indexer(form, key)\n",
      "\u001b[0;31mTypeError\u001b[0m: cannot do positional indexing on Index with these indexers [10] of type Integer"
     ]
    }
   ],
   "source": [
    "print('=== Top spotted DX calls ===')\n",
    "for call, cnt in top_n_by_count(df_spots, 'dx_call', 10):\n",
    "    print(f'{call:12}  {cnt}')"
   ]
  },
  {
   "cell_type": "markdown",
   "id": "4788a3ff",
   "metadata": {},
   "source": [
    "## Top Spotter Calls"
   ]
  },
  {
   "cell_type": "code",
   "execution_count": null,
   "id": "45b37d97",
   "metadata": {},
   "outputs": [],
   "source": [
    "print('=== Top spotter calls ===')\n",
    "for call, cnt in top_n_by_count(df_spots, 'spotter_call', 10):\n",
    "    print(f'{call:12}  {cnt}')"
   ]
  },
  {
   "cell_type": "markdown",
   "id": "2e7cf770",
   "metadata": {},
   "source": [
    "## Band and Mode Distribution"
   ]
  },
  {
   "cell_type": "code",
   "execution_count": null,
   "id": "25bb9f95",
   "metadata": {},
   "outputs": [],
   "source": [
    "print('=== Band distribution (top) ===')\n",
    "if pd is not None:\n",
    "    print(band_distribution(df_spots).head(10).to_string())\n",
    "else:\n",
    "    print('Pandas not available')\n",
    "\n",
    "print('\\n=== Mode distribution (top) ===')\n",
    "if pd is not None:\n",
    "    print(mode_distribution(df_spots).head(10).to_string())\n",
    "else:\n",
    "    print('Pandas not available')\n",
    "\n",
    "bh = busiest_hour(df_spots)\n",
    "if bh:\n",
    "    print(f'\\nBusiest hour (UTC): {bh[0]}:00 with {bh[1]} spots')"
   ]
  },
  {
   "cell_type": "markdown",
   "id": "62953604",
   "metadata": {},
   "source": [
    "## Visualization Functions\n",
    "\n",
    "Define functions for creating visualizations."
   ]
  },
  {
   "cell_type": "code",
   "execution_count": null,
   "id": "de61b70d",
   "metadata": {},
   "outputs": [],
   "source": [
    "def maiden_to_latlon(grid):\n",
    "    \"\"\"Convert Maidenhead grid (4 or 6 chars) to approximate (lat, lon) center.\"\"\"\n",
    "    if not isinstance(grid, str):\n",
    "        return None\n",
    "    g = grid.strip().upper()\n",
    "    if len(g) < 4:\n",
    "        return None\n",
    "    try:\n",
    "        A = ord('A')\n",
    "        lon = (ord(g[0]) - A) * 20 - 180\n",
    "        lat = (ord(g[1]) - A) * 10 - 90\n",
    "        lon += int(g[2]) * 2\n",
    "        lat += int(g[3]) * 1\n",
    "        if len(g) >= 6:\n",
    "            lon += (ord(g[4]) - A) * (5.0/60.0)\n",
    "            lat += (ord(g[5]) - A) * (2.5/60.0)\n",
    "            # center of subsquare\n",
    "            lon += (5.0/60.0) / 2\n",
    "            lat += (2.5/60.0) / 2\n",
    "        else:\n",
    "            # center of 4-char square\n",
    "            lon += 1.0\n",
    "            lat += 0.5\n",
    "        return (lat, lon)\n",
    "    except Exception:\n",
    "        return None"
   ]
  },
  {
   "cell_type": "markdown",
   "id": "6d177f5c",
   "metadata": {},
   "source": [
    "## Create Visualizations\n",
    "\n",
    "Generate various plots to visualize the data."
   ]
  },
  {
   "cell_type": "code",
   "execution_count": null,
   "id": "1e2c2f0a",
   "metadata": {},
   "outputs": [],
   "source": [
    "def generate_heatmap(df_spots):\n",
    "    \"\"\"Generate a heatmap of hour (UTC) vs band activity counts.\"\"\"\n",
    "    if pd is None or plt is None or sns is None:\n",
    "        print('Plotting dependencies not available; skipping heatmap.')\n",
    "        return\n",
    "\n",
    "    df_spots = df_spots.copy()\n",
    "    df_spots['hour'] = pd.to_datetime(df_spots['timestamp']).dt.hour\n",
    "    pivot = df_spots.pivot_table(index='hour', columns='band', values='id', aggfunc='count', fill_value=0)\n",
    "    pivot = pivot.reindex(range(24), fill_value=0)\n",
    "    plt.figure(figsize=(12,6))\n",
    "    sns.heatmap(pivot, cmap='viridis', linewidths=0.5, linecolor='gray')\n",
    "    plt.title('Heatmap: Hour (UTC) vs Band (activity count)')\n",
    "    plt.ylabel('Hour (UTC)')\n",
    "    plt.xlabel('Band')\n",
    "    plt.tight_layout()\n",
    "    plt.show()\n",
    "\n",
    "generate_heatmap(df_spots)"
   ]
  },
  {
   "cell_type": "code",
   "execution_count": null,
   "id": "6595eb04",
   "metadata": {},
   "outputs": [],
   "source": [
    "def plot_spots_per_day(df_spots):\n",
    "    if pd is None or plt is None:\n",
    "        print('Plotting dependencies not available; skipping plot generation.')\n",
    "        return\n",
    "\n",
    "    df_spots['date'] = pd.to_datetime(df_spots['timestamp']).dt.date\n",
    "    per_day = df_spots.groupby('date').size()\n",
    "    plt.figure(figsize=(10,4))\n",
    "    per_day.plot(kind='line')\n",
    "    plt.title('Spots per day')\n",
    "    plt.ylabel('Count')\n",
    "    plt.tight_layout()\n",
    "    plt.show()\n",
    "\n",
    "plot_spots_per_day(df_spots)"
   ]
  },
  {
   "cell_type": "code",
   "execution_count": null,
   "id": "2295ed8b",
   "metadata": {},
   "outputs": [],
   "source": [
    "def plot_band_distribution(df_spots):\n",
    "    if pd is None or plt is None:\n",
    "        print('Plotting dependencies not available; skipping plot generation.')\n",
    "        return\n",
    "\n",
    "    band_counts = df_spots['band'].value_counts(dropna=True)\n",
    "    plt.figure(figsize=(8,5))\n",
    "    sns.barplot(x=band_counts.index, y=band_counts.values)\n",
    "    plt.title('Band distribution')\n",
    "    plt.ylabel('Count')\n",
    "    plt.xlabel('Band')\n",
    "    plt.xticks(rotation=45)\n",
    "    plt.tight_layout()\n",
    "    plt.show()\n",
    "\n",
    "plot_band_distribution(df_spots)"
   ]
  },
  {
   "cell_type": "code",
   "execution_count": null,
   "id": "e0784935",
   "metadata": {},
   "outputs": [],
   "source": [
    "def plot_top_dx_calls(df_spots):\n",
    "    if pd is None or plt is None:\n",
    "        print('Plotting dependencies not available; skipping plot generation.')\n",
    "        return\n",
    "\n",
    "    top_calls = df_spots['dx_call'].value_counts().head(20)\n",
    "    plt.figure(figsize=(8,6))\n",
    "    sns.barplot(y=top_calls.index, x=top_calls.values, orient='h')\n",
    "    plt.title('Top DX Calls')\n",
    "    plt.xlabel('Spots')\n",
    "    plt.tight_layout()\n",
    "    plt.show()\n",
    "\n",
    "plot_top_dx_calls(df_spots)"
   ]
  },
  {
   "cell_type": "markdown",
   "id": "05c63ae8",
   "metadata": {},
   "source": [
    "## Geographic Visualization"
   ]
  },
  {
   "cell_type": "code",
   "execution_count": null,
   "id": "c893b8fb",
   "metadata": {},
   "outputs": [],
   "source": [
    "def generate_grid_map(df_spots):\n",
    "    \"\"\"Aggregate grid squares, convert to lat/lon and create a map.\"\"\"\n",
    "    if pd is None or plt is None:\n",
    "        print('Plotting dependencies not available; skipping grid map.')\n",
    "        return\n",
    "\n",
    "    df_grid = df_spots.dropna(subset=['grid_square']).copy()\n",
    "    if df_grid.empty:\n",
    "        print('No grid_square data found in dataset; skipping grid map.')\n",
    "        return\n",
    "\n",
    "    df_grid['grid'] = df_grid['grid_square'].str.strip()\n",
    "    df_grid['latlon'] = df_grid['grid'].apply(maiden_to_latlon)\n",
    "    df_grid = df_grid.dropna(subset=['latlon']).copy()\n",
    "    if df_grid.empty:\n",
    "        print('No valid grid_square conversions; skipping grid map.')\n",
    "        return\n",
    "    df_grid['lat'] = df_grid['latlon'].apply(lambda x: x[0])\n",
    "    df_grid['lon'] = df_grid['latlon'].apply(lambda x: x[1])\n",
    "\n",
    "    agg = df_grid.groupby('grid').agg(count=('id','size'), lat=('lat','mean'), lon=('lon','mean')).reset_index()\n",
    "    agg = agg.sort_values('count', ascending=False)\n",
    "\n",
    "    try:\n",
    "        if gpd is not None:\n",
    "            world = gpd.read_file(gpd.datasets.get_path('naturalearth_lowres'))\n",
    "            fig, ax = plt.subplots(figsize=(12,6))\n",
    "            world.plot(ax=ax, color='lightgray', edgecolor='white')\n",
    "            sc = ax.scatter(agg['lon'], agg['lat'], s=agg['count']*10, c=agg['count'], \n",
    "                          cmap='Reds', alpha=0.7, edgecolor='k')\n",
    "            plt.colorbar(sc, ax=ax, label='Spot count')\n",
    "            ax.set_title('Grid-square spot density (approx center)')\n",
    "            ax.set_xlabel('Longitude')\n",
    "            ax.set_ylabel('Latitude')\n",
    "            plt.tight_layout()\n",
    "            plt.show()\n",
    "        else:\n",
    "            plt.figure(figsize=(12,6))\n",
    "            plt.scatter(agg['lon'], agg['lat'], s=agg['count']*10, c=agg['count'], \n",
    "                       cmap='Reds', alpha=0.7, edgecolor='k')\n",
    "            plt.colorbar(label='Spot count')\n",
    "            plt.title('Grid-square spot density (approx center)')\n",
    "            plt.xlabel('Longitude')\n",
    "            plt.ylabel('Latitude')\n",
    "            plt.show()\n",
    "    except Exception as e:\n",
    "        print(f'Error plotting grid map: {e}')\n",
    "\n",
    "generate_grid_map(df_spots)"
   ]
  }
 ],
 "metadata": {
  "kernelspec": {
   "display_name": "SageMath 9.5",
   "language": "sage",
   "name": "sagemath"
  },
  "language_info": {
   "codemirror_mode": {
    "name": "ipython",
    "version": 3
   },
   "file_extension": ".py",
   "mimetype": "text/x-python",
   "name": "python",
   "nbconvert_exporter": "python",
   "pygments_lexer": "ipython3",
   "version": "3.11.2"
  }
 },
 "nbformat": 4,
 "nbformat_minor": 5
}
